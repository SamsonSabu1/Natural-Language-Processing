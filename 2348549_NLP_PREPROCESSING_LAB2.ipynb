{
  "nbformat": 4,
  "nbformat_minor": 0,
  "metadata": {
    "colab": {
      "provenance": [],
      "gpuType": "T4",
      "authorship_tag": "ABX9TyM8HKzV/KJSQq7Y1hcjqHKD",
      "include_colab_link": true
    },
    "kernelspec": {
      "name": "python3",
      "display_name": "Python 3"
    },
    "language_info": {
      "name": "python"
    },
    "accelerator": "GPU"
  },
  "cells": [
    {
      "cell_type": "markdown",
      "metadata": {
        "id": "view-in-github",
        "colab_type": "text"
      },
      "source": [
        "<a href=\"https://colab.research.google.com/github/samsomsabu/NATURAL-LANGUAGE-PROCESSING/blob/main/2348549_NLP_PREPROCESSING_LAB2.ipynb\" target=\"_parent\"><img src=\"https://colab.research.google.com/assets/colab-badge.svg\" alt=\"Open In Colab\"/></a>"
      ]
    },
    {
      "cell_type": "code",
      "execution_count": 38,
      "metadata": {
        "id": "m4j4YrdxnM5N"
      },
      "outputs": [],
      "source": [
        "# Importing libraries\n",
        "import pandas as pd\n",
        "import nltk\n",
        "import spacy\n",
        "import gensim\n",
        "import textblob\n",
        "from nltk.stem import WordNetLemmatizer\n",
        "from textblob import Word, TextBlob\n",
        "from nltk.corpus import stopwords\n",
        "import warnings\n",
        "warnings.filterwarnings('ignore')"
      ]
    },
    {
      "cell_type": "code",
      "source": [
        "# Downloading NLTK data\n",
        "nltk.download('punkt')\n",
        "nltk.download('averaged_perceptron_tagger')\n",
        "nltk.download('maxent_ne_chunker')\n",
        "nltk.download('words')\n",
        "nltk.download('wordnet', quiet=True)\n",
        "nltk.download('omw-1.4', quiet=True)\n",
        "nltk.download('vader_lexicon', quiet=True)"
      ],
      "metadata": {
        "colab": {
          "base_uri": "https://localhost:8080/"
        },
        "id": "wFV1HR4bnQmZ",
        "outputId": "59adc4c9-69a3-43dc-aaf3-41bc2573b75c"
      },
      "execution_count": 39,
      "outputs": [
        {
          "output_type": "stream",
          "name": "stderr",
          "text": [
            "[nltk_data] Downloading package punkt to /root/nltk_data...\n",
            "[nltk_data]   Package punkt is already up-to-date!\n",
            "[nltk_data] Downloading package averaged_perceptron_tagger to\n",
            "[nltk_data]     /root/nltk_data...\n",
            "[nltk_data]   Package averaged_perceptron_tagger is already up-to-\n",
            "[nltk_data]       date!\n",
            "[nltk_data] Downloading package maxent_ne_chunker to\n",
            "[nltk_data]     /root/nltk_data...\n",
            "[nltk_data]   Package maxent_ne_chunker is already up-to-date!\n",
            "[nltk_data] Downloading package words to /root/nltk_data...\n",
            "[nltk_data]   Package words is already up-to-date!\n"
          ]
        },
        {
          "output_type": "execute_result",
          "data": {
            "text/plain": [
              "True"
            ]
          },
          "metadata": {},
          "execution_count": 39
        }
      ]
    },
    {
      "cell_type": "code",
      "source": [
        "# Loading the text data\n",
        "text = \"\"\"Navigating the intricate landscape of artificial intelligence, my virtual identity is adorned with key markers. For inquiries, collaborations, or to delve deeper into the symphony of language, feel free to contact me via email at chatgpt@openai.com. The harmony of communication extends beyond the digital realm, and you can connect with me directly at +1 (123) 456-7890. As we traverse the timelines, from the inception on 27th March 2000 to the milestones of 15th June 2018, 22nd September 2022, and 10th November 2023, these dates resonate in the echoes of progress. These digits, both numerical and symbolic, compose a melody that transcends the boundaries of time and technology, shaping the narrative of my existence in the vast expanse of artificial intelligence.\"\"\"\n"
      ],
      "metadata": {
        "id": "cU9lhEwendfK"
      },
      "execution_count": 62,
      "outputs": []
    },
    {
      "cell_type": "code",
      "source": [
        "# standardization of letters\n",
        "text = text.lower()\n",
        "text"
      ],
      "metadata": {
        "colab": {
          "base_uri": "https://localhost:8080/",
          "height": 105
        },
        "id": "e9uqYqMknj07",
        "outputId": "312e7665-d807-4e5b-8e3b-49fec47f04db"
      },
      "execution_count": 63,
      "outputs": [
        {
          "output_type": "execute_result",
          "data": {
            "text/plain": [
              "'navigating the intricate landscape of artificial intelligence, my virtual identity is adorned with key markers. for inquiries, collaborations, or to delve deeper into the symphony of language, feel free to contact me via email at chatgpt@openai.com. the harmony of communication extends beyond the digital realm, and you can connect with me directly at +1 (123) 456-7890. as we traverse the timelines, from the inception on 27th march 2000 to the milestones of 15th june 2018, 22nd september 2022, and 10th november 2023, these dates resonate in the echoes of progress. these digits, both numerical and symbolic, compose a melody that transcends the boundaries of time and technology, shaping the narrative of my existence in the vast expanse of artificial intelligence.'"
            ],
            "application/vnd.google.colaboratory.intrinsic+json": {
              "type": "string"
            }
          },
          "metadata": {},
          "execution_count": 63
        }
      ]
    },
    {
      "cell_type": "code",
      "source": [
        "import re\n",
        "def count_puncts(x):\n",
        "  # sub. punct. with '' and returns the new string with the no. of replacements.\n",
        "  new_str, count = re.subn(r'\\W', '', x)\n",
        "  return count\n",
        "cnt=count_puncts(text)\n",
        "print(cnt)"
      ],
      "metadata": {
        "colab": {
          "base_uri": "https://localhost:8080/"
        },
        "id": "gQqxDoJXn8ev",
        "outputId": "9a4c268c-6775-4fea-e452-fc9a9ec42ff9"
      },
      "execution_count": 64,
      "outputs": [
        {
          "output_type": "stream",
          "name": "stdout",
          "text": [
            "142\n"
          ]
        }
      ]
    },
    {
      "cell_type": "code",
      "source": [
        "import re\n",
        "text = re.sub(r'[^\\w\\s]', '', text)\n",
        "text"
      ],
      "metadata": {
        "colab": {
          "base_uri": "https://localhost:8080/",
          "height": 105
        },
        "id": "Ztlwn59IpzqQ",
        "outputId": "798e8490-230a-4f3b-8b0d-2097c0af84e3"
      },
      "execution_count": 65,
      "outputs": [
        {
          "output_type": "execute_result",
          "data": {
            "text/plain": [
              "'navigating the intricate landscape of artificial intelligence my virtual identity is adorned with key markers for inquiries collaborations or to delve deeper into the symphony of language feel free to contact me via email at chatgptopenaicom the harmony of communication extends beyond the digital realm and you can connect with me directly at 1 123 4567890 as we traverse the timelines from the inception on 27th march 2000 to the milestones of 15th june 2018 22nd september 2022 and 10th november 2023 these dates resonate in the echoes of progress these digits both numerical and symbolic compose a melody that transcends the boundaries of time and technology shaping the narrative of my existence in the vast expanse of artificial intelligence'"
            ],
            "application/vnd.google.colaboratory.intrinsic+json": {
              "type": "string"
            }
          },
          "metadata": {},
          "execution_count": 65
        }
      ]
    },
    {
      "cell_type": "code",
      "source": [
        "# Tokenize text using NLTK\n",
        "tokens = nltk.word_tokenize(text)\n",
        "print(tokens)"
      ],
      "metadata": {
        "colab": {
          "base_uri": "https://localhost:8080/"
        },
        "id": "jP2gy3c3o2Md",
        "outputId": "a9736fc8-c5a2-4b3d-8200-f13c15304e05"
      },
      "execution_count": 66,
      "outputs": [
        {
          "output_type": "stream",
          "name": "stdout",
          "text": [
            "['navigating', 'the', 'intricate', 'landscape', 'of', 'artificial', 'intelligence', 'my', 'virtual', 'identity', 'is', 'adorned', 'with', 'key', 'markers', 'for', 'inquiries', 'collaborations', 'or', 'to', 'delve', 'deeper', 'into', 'the', 'symphony', 'of', 'language', 'feel', 'free', 'to', 'contact', 'me', 'via', 'email', 'at', 'chatgptopenaicom', 'the', 'harmony', 'of', 'communication', 'extends', 'beyond', 'the', 'digital', 'realm', 'and', 'you', 'can', 'connect', 'with', 'me', 'directly', 'at', '1', '123', '4567890', 'as', 'we', 'traverse', 'the', 'timelines', 'from', 'the', 'inception', 'on', '27th', 'march', '2000', 'to', 'the', 'milestones', 'of', '15th', 'june', '2018', '22nd', 'september', '2022', 'and', '10th', 'november', '2023', 'these', 'dates', 'resonate', 'in', 'the', 'echoes', 'of', 'progress', 'these', 'digits', 'both', 'numerical', 'and', 'symbolic', 'compose', 'a', 'melody', 'that', 'transcends', 'the', 'boundaries', 'of', 'time', 'and', 'technology', 'shaping', 'the', 'narrative', 'of', 'my', 'existence', 'in', 'the', 'vast', 'expanse', 'of', 'artificial', 'intelligence']\n"
          ]
        }
      ]
    },
    {
      "cell_type": "code",
      "source": [
        "# Calculate the number of unique words using the set data structure\n",
        "unique_words = set(tokens)\n",
        "num_unique_words = len(unique_words)\n",
        "\n",
        "print(\"The number of unique words in the text is:\", num_unique_words)\n"
      ],
      "metadata": {
        "colab": {
          "base_uri": "https://localhost:8080/"
        },
        "id": "4FSjfboMo2pF",
        "outputId": "74dd2107-a4c3-48e0-8b12-c654fb0d5b1f"
      },
      "execution_count": 67,
      "outputs": [
        {
          "output_type": "stream",
          "name": "stdout",
          "text": [
            "The number of unique words in the text is: 90\n"
          ]
        }
      ]
    },
    {
      "cell_type": "code",
      "source": [
        " nltk.download('stopwords')"
      ],
      "metadata": {
        "colab": {
          "base_uri": "https://localhost:8080/"
        },
        "id": "TLj-ZzGno-gG",
        "outputId": "1c537a43-94c2-4b3d-c5b3-235360d864f3"
      },
      "execution_count": 68,
      "outputs": [
        {
          "output_type": "stream",
          "name": "stderr",
          "text": [
            "[nltk_data] Downloading package stopwords to /root/nltk_data...\n",
            "[nltk_data]   Package stopwords is already up-to-date!\n"
          ]
        },
        {
          "output_type": "execute_result",
          "data": {
            "text/plain": [
              "True"
            ]
          },
          "metadata": {},
          "execution_count": 68
        }
      ]
    },
    {
      "cell_type": "code",
      "source": [
        "# Get English stopwords\n",
        "stop_words = set(stopwords.words('english'))\n",
        "print(stop_words)"
      ],
      "metadata": {
        "colab": {
          "base_uri": "https://localhost:8080/"
        },
        "id": "BI5Ogg8-qBVP",
        "outputId": "68d607d2-aa9a-4a5e-c716-8c5eb2c82bfa"
      },
      "execution_count": 69,
      "outputs": [
        {
          "output_type": "stream",
          "name": "stdout",
          "text": [
            "{'d', 'been', 'ain', \"didn't\", 'of', \"it's\", 'haven', 'but', \"she's\", 'having', 'this', 'where', 'don', 'didn', 'me', 'yours', 'all', \"you've\", 'o', 'my', 'has', 'for', \"hasn't\", 'into', 't', 'out', \"weren't\", 'hadn', 'and', 'until', 'while', 'how', 'couldn', 'any', 'by', 'up', 'weren', 'there', 'ourselves', 'the', 'have', 'can', 'other', 'we', \"isn't\", 'doing', 'once', \"mightn't\", \"doesn't\", 'in', 'wouldn', 'isn', 'very', 'what', 'did', 'so', 'before', 'if', 'you', 'under', 'nor', 'themselves', 'will', 'his', \"aren't\", 'itself', 'shan', 'it', 'who', 'your', 'himself', 'm', 'shouldn', 'whom', 'through', 'most', 'now', 'she', 'our', 'just', 'aren', 'no', 'needn', 'at', 'more', 'down', 'mustn', 'own', 'only', 'them', 'both', 'too', 'ma', \"mustn't\", \"wouldn't\", 'those', 'than', 'him', 'that', 'herself', 'is', 'after', 'yourself', 'am', \"you'd\", 'above', 'about', 've', \"won't\", 'does', 'during', 'her', 'do', 'from', \"don't\", 'should', \"needn't\", 'myself', 'with', 'further', 'when', 'hasn', 'below', 'wasn', \"shouldn't\", 'was', \"couldn't\", \"haven't\", 'be', 'y', 'as', 'such', 'they', 'an', 'against', 'some', 'these', 's', 'are', 'off', 'same', 'which', 'its', 'their', 'won', 'hers', \"wasn't\", 'a', 'then', 'yourselves', 'on', 're', \"hadn't\", \"that'll\", \"shan't\", 'i', 'mightn', 'between', \"should've\", 'each', 'again', 'were', 'he', 'why', 'not', 'ours', \"you'll\", 'had', 'to', 'here', \"you're\", 'theirs', 'or', 'because', 'll', 'over', 'being', 'doesn', 'few'}\n"
          ]
        }
      ]
    },
    {
      "cell_type": "code",
      "source": [
        "# Count the occurrences of each stopword\n",
        "stopword_count = {}\n",
        "\n",
        "for token in tokens:\n",
        "    if token in stop_words:\n",
        "        if token in stopword_count:\n",
        "            stopword_count[token] += 1\n",
        "        else:\n",
        "            stopword_count[token] = 1\n",
        "print(len(stopword_count))"
      ],
      "metadata": {
        "colab": {
          "base_uri": "https://localhost:8080/"
        },
        "id": "4pf5oP3uqPBS",
        "outputId": "7b588708-0192-4b97-d3e9-6a60b621755c"
      },
      "execution_count": 70,
      "outputs": [
        {
          "output_type": "stream",
          "name": "stdout",
          "text": [
            "23\n"
          ]
        }
      ]
    },
    {
      "cell_type": "code",
      "source": [
        "import matplotlib.pyplot as plt\n",
        "# Plot the distribution of stopwords\n",
        "plt.figure(figsize=(10, 6))\n",
        "plt.bar(stopword_count.keys(), stopword_count.values())\n",
        "plt.xlabel('Stopwords')\n",
        "plt.ylabel('Frequency')\n",
        "plt.title('Distribution of Stopwords in the Text')\n",
        "plt.xticks(rotation=45)\n",
        "plt.show()"
      ],
      "metadata": {
        "colab": {
          "base_uri": "https://localhost:8080/",
          "height": 587
        },
        "id": "f_qP04DoqZyh",
        "outputId": "c521fbc4-91f1-4cbe-e346-131974a97b8e"
      },
      "execution_count": 71,
      "outputs": [
        {
          "output_type": "display_data",
          "data": {
            "text/plain": [
              "<Figure size 1000x600 with 1 Axes>"
            ],
            "image/png": "[encoded data removed]"
          },
          "metadata": {}
        }
      ]
    },
    {
      "cell_type": "code",
      "source": [
        "# Remove stopwords from tokens\n",
        "filtered_tokens = [token for token in tokens if token not in stop_words]\n",
        "print(filtered_tokens)"
      ],
      "metadata": {
        "colab": {
          "base_uri": "https://localhost:8080/"
        },
        "id": "6eUeSMWqqmj7",
        "outputId": "a10429b9-838c-4c3a-d182-7757c9f549bb"
      },
      "execution_count": 72,
      "outputs": [
        {
          "output_type": "stream",
          "name": "stdout",
          "text": [
            "['navigating', 'intricate', 'landscape', 'artificial', 'intelligence', 'virtual', 'identity', 'adorned', 'key', 'markers', 'inquiries', 'collaborations', 'delve', 'deeper', 'symphony', 'language', 'feel', 'free', 'contact', 'via', 'email', 'chatgptopenaicom', 'harmony', 'communication', 'extends', 'beyond', 'digital', 'realm', 'connect', 'directly', '1', '123', '4567890', 'traverse', 'timelines', 'inception', '27th', 'march', '2000', 'milestones', '15th', 'june', '2018', '22nd', 'september', '2022', '10th', 'november', '2023', 'dates', 'resonate', 'echoes', 'progress', 'digits', 'numerical', 'symbolic', 'compose', 'melody', 'transcends', 'boundaries', 'time', 'technology', 'shaping', 'narrative', 'existence', 'vast', 'expanse', 'artificial', 'intelligence']\n"
          ]
        }
      ]
    },
    {
      "cell_type": "code",
      "source": [
        "#import the Counter class\n",
        "from collections import Counter\n",
        "\n",
        "#assign POS tags to each words\n",
        "pos = nltk.pos_tag(filtered_tokens)\n",
        "#Count the POS tags\n",
        "the_count = Counter(tag for _, tag in pos)\n",
        "#print the count\n",
        "print(the_count)"
      ],
      "metadata": {
        "colab": {
          "base_uri": "https://localhost:8080/"
        },
        "id": "GH6hZpL2qwf1",
        "outputId": "8b5f8cd9-8de0-48fe-df2d-268096329735"
      },
      "execution_count": 73,
      "outputs": [
        {
          "output_type": "stream",
          "name": "stdout",
          "text": [
            "Counter({'NN': 22, 'JJ': 13, 'CD': 11, 'NNS': 9, 'VBP': 3, 'VBG': 2, 'VB': 2, 'IN': 2, 'VBZ': 2, 'VBD': 1, 'JJR': 1, 'RB': 1})\n"
          ]
        }
      ]
    },
    {
      "cell_type": "code",
      "source": [
        "# Extract tags and their counts\n",
        "tags = [tag for tag in the_count.keys()]\n",
        "counts = [count for count in the_count.values()]\n",
        "\n",
        "# Plot the distribution of POS tags\n",
        "plt.figure(figsize=(10, 6))\n",
        "plt.bar(tags, counts)\n",
        "plt.xlabel('POS Tags')\n",
        "plt.ylabel('Frequency')\n",
        "plt.title('Distribution of POS Tags in the Text')\n",
        "plt.xticks(rotation=45)  # Rotate x-axis labels for better visibility\n",
        "plt.show()"
      ],
      "metadata": {
        "colab": {
          "base_uri": "https://localhost:8080/",
          "height": 581
        },
        "id": "BiZMUJytrLU3",
        "outputId": "17702632-cffa-4ef8-f1a5-539aaaacd2d2"
      },
      "execution_count": 74,
      "outputs": [
        {
          "output_type": "display_data",
          "data": {
            "text/plain": [
              "<Figure size 1000x600 with 1 Axes>"
            ],
            "image/png": "[encoded data removed]"
          },
          "metadata": {}
        }
      ]
    },
    {
      "cell_type": "code",
      "source": [
        "# Loading the English language model\n",
        "nlp = spacy.load(\"en_core_web_sm\")\n",
        "\n",
        "# Join the list into a sentence\n",
        "sentence = \" \".join(filtered_tokens)\n",
        "\n",
        "# Process the sentence with spaCy\n",
        "doc = nlp(sentence)\n",
        "\n",
        "# Lemmatize and print the lemmatized tokens\n",
        "lemmatized_tokens = [token.lemma_ for token in doc]\n",
        "print(lemmatized_tokens)\n"
      ],
      "metadata": {
        "colab": {
          "base_uri": "https://localhost:8080/"
        },
        "id": "LABmgRyorgnK",
        "outputId": "0cd1dc46-3bd1-4cf3-84ed-b8ab89200a76"
      },
      "execution_count": 75,
      "outputs": [
        {
          "output_type": "stream",
          "name": "stdout",
          "text": [
            "['navigate', 'intricate', 'landscape', 'artificial', 'intelligence', 'virtual', 'identity', 'adorn', 'key', 'marker', 'inquiry', 'collaboration', 'delve', 'deep', 'symphony', 'language', 'feel', 'free', 'contact', 'via', 'email', 'chatgptopenaicom', 'harmony', 'communication', 'extend', 'beyond', 'digital', 'realm', 'connect', 'directly', '1', '123', '4567890', 'traverse', 'timeline', 'inception', '27th', 'march', '2000', 'milestone', '15th', 'june', '2018', '22nd', 'september', '2022', '10th', 'november', '2023', 'date', 'resonate', 'echo', 'progress', 'digits', 'numerical', 'symbolic', 'compose', 'melody', 'transcend', 'boundary', 'time', 'technology', 'shape', 'narrative', 'existence', 'vast', 'expanse', 'artificial', 'intelligence']\n"
          ]
        }
      ]
    },
    {
      "cell_type": "code",
      "source": [
        "# Using the lemmatized_tokens from the text_preprocessing function\n",
        "unique_lemmas = set(lemmatized_tokens)\n",
        "num_unique_lemmas = len(unique_lemmas)\n",
        "\n",
        "print(\"The number of unique lemmas in the text is:\", num_unique_lemmas)\n"
      ],
      "metadata": {
        "colab": {
          "base_uri": "https://localhost:8080/"
        },
        "id": "g4274H9OrtN4",
        "outputId": "d9870a25-e379-4cf7-ddde-d1eb1eb44baa"
      },
      "execution_count": 76,
      "outputs": [
        {
          "output_type": "stream",
          "name": "stdout",
          "text": [
            "The number of unique lemmas in the text is: 67\n"
          ]
        }
      ]
    },
    {
      "cell_type": "code",
      "source": [
        "\n",
        "# Calculate the frequency distribution of the tokens\n",
        "freq_dist = FreqDist(tokens)\n",
        "\n",
        "# Select the top 10 most occurring tokens\n",
        "top_10_tokens = freq_dist.most_common(10)\n",
        "\n",
        "# Create lists for the top 10 tokens and their frequencies\n",
        "top_10_tokens_list = [token[0] for token in top_10_tokens]\n",
        "top_10_frequencies = [token[1] for token in top_10_tokens]\n",
        "\n",
        "# Plot the frequency distribution of the top 10 tokens\n",
        "plt.figure(figsize=(10, 6))\n",
        "plt.bar(top_10_tokens_list, top_10_frequencies)\n",
        "plt.xlabel('Tokens')\n",
        "plt.ylabel('Frequency')\n",
        "plt.title('Top 10 Most Occurring Tokens')\n",
        "plt.xticks(rotation=45, ha='right')\n",
        "plt.show()"
      ],
      "metadata": {
        "colab": {
          "base_uri": "https://localhost:8080/",
          "height": 617
        },
        "id": "TwVXZd-hrw1N",
        "outputId": "c2baa3e1-b8d8-43c2-f2ad-7bac41c0411e"
      },
      "execution_count": 77,
      "outputs": [
        {
          "output_type": "display_data",
          "data": {
            "text/plain": [
              "<Figure size 1000x600 with 1 Axes>"
            ],
            "image/png": "[encoded data removed]"
          },
          "metadata": {}
        }
      ]
    },
    {
      "cell_type": "code",
      "source": [
        "from nltk.util import ngrams\n",
        "\n",
        "# Define the different n-gram sizes\n",
        "n_values = [2, 3, 4]\n",
        "\n",
        "# Create a dictionary to store the counts of unique n-grams for each size\n",
        "n_gram_counts = {}\n",
        "\n",
        "for n in n_values:\n",
        "    # Generate n-grams\n",
        "    n_grams = list(ngrams(tokens, n))\n",
        "\n",
        "    # Get the count of unique n-grams for the current n\n",
        "    unique_n_grams = set(n_grams)\n",
        "    n_gram_counts[n] = len(unique_n_grams)\n",
        "\n",
        "# Print the counts of unique n-grams for each size\n",
        "for n, count in n_gram_counts.items():\n",
        "    print(\"Number of unique\", n, \"-grams:\", count)\n"
      ],
      "metadata": {
        "colab": {
          "base_uri": "https://localhost:8080/"
        },
        "id": "Rip1dCjxtHM3",
        "outputId": "d075c9fa-0102-48af-92e6-e350431dae02"
      },
      "execution_count": 81,
      "outputs": [
        {
          "output_type": "stream",
          "name": "stdout",
          "text": [
            "Number of unique 2 -grams: 116\n",
            "Number of unique 3 -grams: 117\n",
            "Number of unique 4 -grams: 117\n"
          ]
        }
      ]
    },
    {
      "cell_type": "code",
      "source": [
        "\n",
        "from datetime import datetime\n",
        "\n",
        "\n",
        "# Regular expression pattern to match dates in various formats\n",
        "date_pattern = r'(?:\\b\\d{1,2}[-/]\\d{1,2}[-/]\\d{2,4}\\b)'\n",
        "\n",
        "# Find and iterate through all the dates in the text\n",
        "for match in re.finditer(date_pattern, text):\n",
        "    # Extract the matched date\n",
        "    matched_date = match.group(0)\n",
        "\n",
        "    # Convert the date to the DD-MM-YYYY format\n",
        "    converted_date = datetime.strptime(matched_date, '%d-%m-%Y').strftime('%d-%m-%Y')\n",
        "\n",
        "    # Replace the original date with the converted date in the text\n",
        "    text = text.replace(matched_date, converted_date)\n",
        "\n",
        "# Print the text with converted dates\n",
        "print(text)\n"
      ],
      "metadata": {
        "colab": {
          "base_uri": "https://localhost:8080/"
        },
        "id": "Ewrs9E0utl2Q",
        "outputId": "0699294f-a853-4f52-86df-d9545b7087a4"
      },
      "execution_count": 82,
      "outputs": [
        {
          "output_type": "stream",
          "name": "stdout",
          "text": [
            "navigating the intricate landscape of artificial intelligence my virtual identity is adorned with key markers for inquiries collaborations or to delve deeper into the symphony of language feel free to contact me via email at chatgptopenaicom the harmony of communication extends beyond the digital realm and you can connect with me directly at 1 123 4567890 as we traverse the timelines from the inception on 27th march 2000 to the milestones of 15th june 2018 22nd september 2022 and 10th november 2023 these dates resonate in the echoes of progress these digits both numerical and symbolic compose a melody that transcends the boundaries of time and technology shaping the narrative of my existence in the vast expanse of artificial intelligence\n"
          ]
        }
      ]
    },
    {
      "cell_type": "code",
      "source": [
        "import re\n",
        "import matplotlib.pyplot as plt\n",
        "\n",
        "# Extract years from the text using regular expression\n",
        "years = re.findall(r'\\b\\d{4}\\b', text)\n",
        "\n",
        "# Count the occurrences of each year\n",
        "year_counts = {}\n",
        "for year in years:\n",
        "    if year in year_counts:\n",
        "        year_counts[year] += 1\n",
        "    else:\n",
        "        year_counts[year] = 1\n",
        "\n",
        "# Plot the distribution of the different values of years\n",
        "plt.bar(year_counts.keys(), year_counts.values())\n",
        "plt.xlabel('Year')\n",
        "plt.ylabel('Frequency')\n",
        "plt.title('Distribution of Years in the Text')\n",
        "plt.show()\n"
      ],
      "metadata": {
        "colab": {
          "base_uri": "https://localhost:8080/",
          "height": 472
        },
        "id": "Qn7hq3y9uEos",
        "outputId": "f8dee7a8-6f4a-42f7-924c-50449d8e0503"
      },
      "execution_count": 83,
      "outputs": [
        {
          "output_type": "display_data",
          "data": {
            "text/plain": [
              "<Figure size 640x480 with 1 Axes>"
            ],
            "image/png": "[encoded data removed]"
          },
          "metadata": {}
        }
      ]
    },
    {
      "cell_type": "code",
      "source": [
        "# Define a regular expression pattern to match phone numbers (xxx-xxx-xxxx format)\n",
        "phone_pattern = r'\\b\\d{3}-\\d{3}-\\d{4}\\b'\n",
        "\n",
        "# Find all phone numbers in the text\n",
        "phone_numbers = re.findall(phone_pattern, text)\n",
        "\n",
        "# Filter and validate phone numbers\n",
        "valid_phone_numbers = []\n",
        "for number in phone_numbers:\n",
        "    parts = number.split('-')\n",
        "    if int(parts[0]) <= 999 and int(parts[1]) <= 999 and int(parts[2]) <= 9999:\n",
        "        valid_phone_numbers.append(number)\n",
        "\n",
        "# Remove any invalid phone numbers from the text\n",
        "for number in phone_numbers:\n",
        "    if number not in valid_phone_numbers:\n",
        "        text = text.replace(number, '')\n",
        "\n",
        "# Output the valid phone numbers and the modified text\n",
        "print(\"Valid Phone Numbers:\", valid_phone_numbers)\n",
        "print(\"Modified Text:\", text)\n"
      ],
      "metadata": {
        "colab": {
          "base_uri": "https://localhost:8080/"
        },
        "id": "QS3UeaIpvIDW",
        "outputId": "c88020e5-47a9-4e9b-a110-205d45c54f8e"
      },
      "execution_count": 84,
      "outputs": [
        {
          "output_type": "stream",
          "name": "stdout",
          "text": [
            "Valid Phone Numbers: []\n",
            "Modified Text: navigating the intricate landscape of artificial intelligence my virtual identity is adorned with key markers for inquiries collaborations or to delve deeper into the symphony of language feel free to contact me via email at chatgptopenaicom the harmony of communication extends beyond the digital realm and you can connect with me directly at 1 123 4567890 as we traverse the timelines from the inception on 27th march 2000 to the milestones of 15th june 2018 22nd september 2022 and 10th november 2023 these dates resonate in the echoes of progress these digits both numerical and symbolic compose a melody that transcends the boundaries of time and technology shaping the narrative of my existence in the vast expanse of artificial intelligence\n"
          ]
        }
      ]
    },
    {
      "cell_type": "markdown",
      "source": [
        "https://www.linkedin.com/pulse/text-preprocessing-natural-language-processing-nlp-germec-phd"
      ],
      "metadata": {
        "id": "2d1sguwiwXBB"
      }
    },
    {
      "cell_type": "markdown",
      "source": [
        "https://medium.com/@maleeshadesilva21/preprocessing-steps-for-natural-language-processing-nlp-a-beginners-guide-d6d9bf7689c9"
      ],
      "metadata": {
        "id": "g4b7fl6dwddv"
      }
    },
    {
      "cell_type": "markdown",
      "source": [
        "Insights and Possible Applications:\n",
        "\n",
        "Token Analysis:\n",
        "\n",
        "Insights: Understanding the diversity and richness of language in a specific domain.\n",
        "\n",
        "Applications: Tailoring language models, content generation, and improving communication within that domain.\n",
        "\n",
        "\n",
        "Punctuation Removal:\n",
        "\n",
        "Insights: Focusing on the core content by eliminating non-semantic characters.\n",
        "Applications: Preprocessing for text analysis, sentiment analysis, and information retrieval.\n",
        "Stopword Distribution:\n",
        "\n",
        "Insights: Identifying common words that might not contribute significantly to the meaning.\n",
        "Applications: Improving keyword extraction, document summarization, and topic modeling.\n",
        "\n",
        "\n",
        "Stopword Removal:\n",
        "\n",
        "Insights: Streamlining text for more meaningful analysis.\n",
        "Applications: Enhancing text mining, sentiment analysis, and topic modeling.\n",
        "\n",
        "\n",
        "POS Tag Distribution:\n",
        "\n",
        "Insights: Understanding the grammatical structure and syntactic patterns.\n",
        "Applications: Improving information extraction, language understanding, and machine translation.\n",
        "\n",
        "\n",
        "Unique Lemma Count:\n",
        "\n",
        "Insights: Assessing the semantic richness and variety of words.\n",
        "Applications: Enhancing the performance of language models, improving search relevance.\n",
        "\n",
        "\n",
        "Word Frequency Distribution:\n",
        "\n",
        "Insights: Identifying key terms and their importance.\n",
        "Applications: Enhancing search algorithms, content recommendation systems, and keyword optimization.\n",
        "\n",
        "\n",
        "N-grams Analysis:\n",
        "\n",
        "Insights: Capturing contextual relationships between words.\n",
        "Applications: Improving language modeling, autocomplete suggestions, and information retrieval.\n",
        "\n",
        "\n",
        "Date Format Conversion:\n",
        "\n",
        "Insights: Standardizing date formats for consistency.\n",
        "Applications: Streamlining data for chronological analysis, facilitating database integration.\n",
        "\n",
        "\n",
        "Year Distribution:\n",
        "\n",
        "Insights: Identifying temporal trends.\n",
        "Applications: Analyzing historical context, understanding evolving themes over time.\n",
        "\n",
        "\n",
        "Phone Number Validation:\n",
        "\n",
        "Insights: Ensuring data integrity and removing irrelevant or incorrect information.\n",
        "Applications: Enhancing contact information extraction, improving data quality in databases."
      ],
      "metadata": {
        "id": "TbHrBHXLwoc9"
      }
    },
    {
      "cell_type": "code",
      "source": [],
      "metadata": {
        "id": "mgp7Htv7wH0H"
      },
      "execution_count": null,
      "outputs": []
    }
  ]
}