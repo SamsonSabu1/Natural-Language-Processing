{
  "nbformat": 4,
  "nbformat_minor": 0,
  "metadata": {
    "colab": {
      "provenance": [],
      "gpuType": "T4",
      "authorship_tag": "ABX9TyNCPivKekcIMoKm3IowvRVZ",
      "include_colab_link": true
    },
    "kernelspec": {
      "name": "python3",
      "display_name": "Python 3"
    },
    "language_info": {
      "name": "python"
    },
    "accelerator": "GPU"
  },
  "cells": [
    {
      "cell_type": "markdown",
      "metadata": {
        "id": "view-in-github",
        "colab_type": "text"
      },
      "source": [
        "<a href=\"https://colab.research.google.com/github/samsomsabu/NATURAL-LANGUAGE-PROCESSING/blob/main/2348549_NLP_LAB3(TOKENIZATION_IN_DIFFERENT_LANGUAGES).ipynb\" target=\"_parent\"><img src=\"https://colab.research.google.com/assets/colab-badge.svg\" alt=\"Open In Colab\"/></a>"
      ]
    },
    {
      "cell_type": "code",
      "source": [
        "import nltk"
      ],
      "metadata": {
        "id": "fucq0JdcSyIO"
      },
      "execution_count": 3,
      "outputs": []
    },
    {
      "cell_type": "code",
      "execution_count": 1,
      "metadata": {
        "colab": {
          "base_uri": "https://localhost:8080/"
        },
        "id": "2nHlIsU6SdMR",
        "outputId": "5d2a43b7-1b15-4210-b9fd-56aafd3ea963"
      },
      "outputs": [
        {
          "output_type": "stream",
          "name": "stdout",
          "text": [
            "Collecting indic-nlp-library\n",
            "  Downloading indic_nlp_library-0.92-py3-none-any.whl (40 kB)\n",
            "\u001b[2K     \u001b[90m━━━━━━━━━━━━━━━━━━━━━━━━━━━━━━━━━━━━━━━━\u001b[0m \u001b[32m40.3/40.3 kB\u001b[0m \u001b[31m1.1 MB/s\u001b[0m eta \u001b[36m0:00:00\u001b[0m\n",
            "\u001b[?25hCollecting sphinx-argparse (from indic-nlp-library)\n",
            "  Downloading sphinx_argparse-0.4.0-py3-none-any.whl (12 kB)\n",
            "Collecting sphinx-rtd-theme (from indic-nlp-library)\n",
            "  Downloading sphinx_rtd_theme-2.0.0-py2.py3-none-any.whl (2.8 MB)\n",
            "\u001b[2K     \u001b[90m━━━━━━━━━━━━━━━━━━━━━━━━━━━━━━━━━━━━━━━━\u001b[0m \u001b[32m2.8/2.8 MB\u001b[0m \u001b[31m15.0 MB/s\u001b[0m eta \u001b[36m0:00:00\u001b[0m\n",
            "\u001b[?25hCollecting morfessor (from indic-nlp-library)\n",
            "  Downloading Morfessor-2.0.6-py3-none-any.whl (35 kB)\n",
            "Requirement already satisfied: pandas in /usr/local/lib/python3.10/dist-packages (from indic-nlp-library) (1.5.3)\n",
            "Requirement already satisfied: numpy in /usr/local/lib/python3.10/dist-packages (from indic-nlp-library) (1.25.2)\n",
            "Requirement already satisfied: python-dateutil>=2.8.1 in /usr/local/lib/python3.10/dist-packages (from pandas->indic-nlp-library) (2.8.2)\n",
            "Requirement already satisfied: pytz>=2020.1 in /usr/local/lib/python3.10/dist-packages (from pandas->indic-nlp-library) (2023.4)\n",
            "Requirement already satisfied: sphinx>=1.2.0 in /usr/local/lib/python3.10/dist-packages (from sphinx-argparse->indic-nlp-library) (5.0.2)\n",
            "Requirement already satisfied: docutils<0.21 in /usr/local/lib/python3.10/dist-packages (from sphinx-rtd-theme->indic-nlp-library) (0.18.1)\n",
            "Collecting sphinxcontrib-jquery<5,>=4 (from sphinx-rtd-theme->indic-nlp-library)\n",
            "  Downloading sphinxcontrib_jquery-4.1-py2.py3-none-any.whl (121 kB)\n",
            "\u001b[2K     \u001b[90m━━━━━━━━━━━━━━━━━━━━━━━━━━━━━━━━━━━━━━━━\u001b[0m \u001b[32m121.1/121.1 kB\u001b[0m \u001b[31m19.9 MB/s\u001b[0m eta \u001b[36m0:00:00\u001b[0m\n",
            "\u001b[?25hRequirement already satisfied: six>=1.5 in /usr/local/lib/python3.10/dist-packages (from python-dateutil>=2.8.1->pandas->indic-nlp-library) (1.16.0)\n",
            "Requirement already satisfied: sphinxcontrib-applehelp in /usr/local/lib/python3.10/dist-packages (from sphinx>=1.2.0->sphinx-argparse->indic-nlp-library) (1.0.8)\n",
            "Requirement already satisfied: sphinxcontrib-devhelp in /usr/local/lib/python3.10/dist-packages (from sphinx>=1.2.0->sphinx-argparse->indic-nlp-library) (1.0.6)\n",
            "Requirement already satisfied: sphinxcontrib-jsmath in /usr/local/lib/python3.10/dist-packages (from sphinx>=1.2.0->sphinx-argparse->indic-nlp-library) (1.0.1)\n",
            "Requirement already satisfied: sphinxcontrib-htmlhelp>=2.0.0 in /usr/local/lib/python3.10/dist-packages (from sphinx>=1.2.0->sphinx-argparse->indic-nlp-library) (2.0.5)\n",
            "Requirement already satisfied: sphinxcontrib-serializinghtml>=1.1.5 in /usr/local/lib/python3.10/dist-packages (from sphinx>=1.2.0->sphinx-argparse->indic-nlp-library) (1.1.10)\n",
            "Requirement already satisfied: sphinxcontrib-qthelp in /usr/local/lib/python3.10/dist-packages (from sphinx>=1.2.0->sphinx-argparse->indic-nlp-library) (1.0.7)\n",
            "Requirement already satisfied: Jinja2>=2.3 in /usr/local/lib/python3.10/dist-packages (from sphinx>=1.2.0->sphinx-argparse->indic-nlp-library) (3.1.3)\n",
            "Requirement already satisfied: Pygments>=2.0 in /usr/local/lib/python3.10/dist-packages (from sphinx>=1.2.0->sphinx-argparse->indic-nlp-library) (2.16.1)\n",
            "Requirement already satisfied: snowballstemmer>=1.1 in /usr/local/lib/python3.10/dist-packages (from sphinx>=1.2.0->sphinx-argparse->indic-nlp-library) (2.2.0)\n",
            "Requirement already satisfied: babel>=1.3 in /usr/local/lib/python3.10/dist-packages (from sphinx>=1.2.0->sphinx-argparse->indic-nlp-library) (2.14.0)\n",
            "Requirement already satisfied: alabaster<0.8,>=0.7 in /usr/local/lib/python3.10/dist-packages (from sphinx>=1.2.0->sphinx-argparse->indic-nlp-library) (0.7.16)\n",
            "Requirement already satisfied: imagesize in /usr/local/lib/python3.10/dist-packages (from sphinx>=1.2.0->sphinx-argparse->indic-nlp-library) (1.4.1)\n",
            "Requirement already satisfied: requests>=2.5.0 in /usr/local/lib/python3.10/dist-packages (from sphinx>=1.2.0->sphinx-argparse->indic-nlp-library) (2.31.0)\n",
            "Requirement already satisfied: packaging in /usr/local/lib/python3.10/dist-packages (from sphinx>=1.2.0->sphinx-argparse->indic-nlp-library) (23.2)\n",
            "Requirement already satisfied: MarkupSafe>=2.0 in /usr/local/lib/python3.10/dist-packages (from Jinja2>=2.3->sphinx>=1.2.0->sphinx-argparse->indic-nlp-library) (2.1.5)\n",
            "Requirement already satisfied: charset-normalizer<4,>=2 in /usr/local/lib/python3.10/dist-packages (from requests>=2.5.0->sphinx>=1.2.0->sphinx-argparse->indic-nlp-library) (3.3.2)\n",
            "Requirement already satisfied: idna<4,>=2.5 in /usr/local/lib/python3.10/dist-packages (from requests>=2.5.0->sphinx>=1.2.0->sphinx-argparse->indic-nlp-library) (3.6)\n",
            "Requirement already satisfied: urllib3<3,>=1.21.1 in /usr/local/lib/python3.10/dist-packages (from requests>=2.5.0->sphinx>=1.2.0->sphinx-argparse->indic-nlp-library) (2.0.7)\n",
            "Requirement already satisfied: certifi>=2017.4.17 in /usr/local/lib/python3.10/dist-packages (from requests>=2.5.0->sphinx>=1.2.0->sphinx-argparse->indic-nlp-library) (2024.2.2)\n",
            "Installing collected packages: morfessor, sphinxcontrib-jquery, sphinx-argparse, sphinx-rtd-theme, indic-nlp-library\n",
            "Successfully installed indic-nlp-library-0.92 morfessor-2.0.6 sphinx-argparse-0.4.0 sphinx-rtd-theme-2.0.0 sphinxcontrib-jquery-4.1\n"
          ]
        }
      ],
      "source": [
        "pip install indic-nlp-library\n"
      ]
    },
    {
      "cell_type": "code",
      "source": [
        "nltk.download('punkt')"
      ],
      "metadata": {
        "colab": {
          "base_uri": "https://localhost:8080/"
        },
        "id": "qm1IKXYhS_Tt",
        "outputId": "52cd3e25-0f71-4c94-d102-d5377fc80f7e"
      },
      "execution_count": 5,
      "outputs": [
        {
          "output_type": "stream",
          "name": "stderr",
          "text": [
            "[nltk_data] Downloading package punkt to /root/nltk_data...\n",
            "[nltk_data]   Unzipping tokenizers/punkt.zip.\n"
          ]
        },
        {
          "output_type": "execute_result",
          "data": {
            "text/plain": [
              "True"
            ]
          },
          "metadata": {},
          "execution_count": 5
        }
      ]
    },
    {
      "cell_type": "markdown",
      "source": [
        "this code is provided by chatgpt\n"
      ],
      "metadata": {
        "id": "EYOk0Wika4zu"
      }
    },
    {
      "cell_type": "code",
      "source": [
        "from indicnlp.tokenize import indic_tokenize\n",
        "\n",
        "def tokenize_hindi(text):\n",
        "    # Tokenize Hindi text using indic_nlp_library\n",
        "    tokens = indic_tokenize.trivial_tokenize(text)\n",
        "    return tokens\n",
        "\n",
        "def tokenize_text(text, language):\n",
        "    if language.lower() == 'hindi':\n",
        "        tokens = tokenize_hindi(text)\n",
        "    elif language.lower() == 'french':\n",
        "        # Tokenize French text using NLTK\n",
        "        tokens = nltk.word_tokenize(text, language='french')\n",
        "    else:\n",
        "        raise ValueError(\"Unsupported language. Supported languages are Hindi and French.\")\n",
        "\n",
        "    return tokens\n",
        "\n",
        "def main():\n",
        "    # Example Hindi text\n",
        "    hindi_text = \"नमस्ते, यह एक उदाहरण है।\"\n",
        "    hindi_tokens = tokenize_text(hindi_text, 'hindi')\n",
        "    print(f'Hindi Tokens: {hindi_tokens}')\n",
        "\n",
        "    # Example French text\n",
        "    french_text = \"Bonjour, c'est un exemple.\"\n",
        "    french_tokens = tokenize_text(french_text, 'french')\n",
        "    print(f'French Tokens: {french_tokens}')\n",
        "\n",
        "if __name__ == \"__main__\":\n",
        "    main()\n"
      ],
      "metadata": {
        "colab": {
          "base_uri": "https://localhost:8080/"
        },
        "id": "86jfJA8dSduN",
        "outputId": "a7c36cda-b5b1-4e7b-a9b4-00518d18d304"
      },
      "execution_count": 6,
      "outputs": [
        {
          "output_type": "stream",
          "name": "stdout",
          "text": [
            "Hindi Tokens: ['नमस्ते', ',', 'यह', 'एक', 'उदाहरण', 'है', '।']\n",
            "French Tokens: ['Bonjour', ',', \"c'est\", 'un', 'exemple', '.']\n"
          ]
        }
      ]
    },
    {
      "cell_type": "markdown",
      "source": [
        "The indic-nlp-library is an open-source natural language processing (NLP) library specifically designed for Indian languages. It provides a wide range of functionalities tailored to the specific linguistic and script-related characteristics of the diverse languages spoken in India."
      ],
      "metadata": {
        "id": "lN-Syox3a-Zb"
      }
    },
    {
      "cell_type": "markdown",
      "source": [
        "this is the code written by me"
      ],
      "metadata": {
        "id": "yIyy99Gea_Yk"
      }
    },
    {
      "cell_type": "code",
      "source": [
        "import nltk\n",
        "from nltk.tokenize import word_tokenize, sent_tokenize\n",
        "\n",
        "telugu_text = 'ఒక మంచి ఉదాహరణ'\n",
        "spanish_text = 'Me encanta programar en español.'\n",
        "\n",
        "# Tokenize the Telugu text\n",
        "telugu_tokens = indic_tokenize.trivial_tokenize(telugu_text)\n",
        "\n",
        "# Tokenize the Spanish text\n",
        "spanish_tokens = word_tokenize(spanish_text)\n",
        "\n",
        "print(telugu_tokens)\n",
        "print(spanish_tokens)\n"
      ],
      "metadata": {
        "colab": {
          "base_uri": "https://localhost:8080/"
        },
        "id": "veVKTO09ShLR",
        "outputId": "30772e77-ebd1-48f0-b12d-148d1b6c8bd1"
      },
      "execution_count": 10,
      "outputs": [
        {
          "output_type": "stream",
          "name": "stdout",
          "text": [
            "['ఒక', 'మంచి', 'ఉదాహరణ']\n",
            "['Me', 'encanta', 'programar', 'en', 'español', '.']\n"
          ]
        }
      ]
    },
    {
      "cell_type": "markdown",
      "source": [
        "this is another way of  implementation for tokenization"
      ],
      "metadata": {
        "id": "-KqQpTkabGAE"
      }
    },
    {
      "cell_type": "code",
      "source": [
        "import nltk\n",
        "import numpy as np\n",
        "import pandas as pd"
      ],
      "metadata": {
        "id": "9mg3_HPvTYAh"
      },
      "execution_count": 11,
      "outputs": []
    },
    {
      "cell_type": "code",
      "source": [
        "spanish_txt=\"\"\"Las flores son la expresión colorida y vibrante de la naturaleza. En los jardines, despliegan su belleza única, ofreciendo una paleta de colores que alegra el corazón. Cada pétalo es como una obra de arte, y su fragancia embriaga el aire. Las flores no solo son hermosas, sino que también simbolizan la vida, el amor y la renovación. Al observar un campo de flores, nos sumergimos en la poesía visual de la existencia, recordándonos la delicadeza y la efímera belleza que florece en cada rincón de nuestro mundo\"\"\""
      ],
      "metadata": {
        "id": "ZQBqAcHfYpZi"
      },
      "execution_count": 12,
      "outputs": []
    },
    {
      "cell_type": "code",
      "source": [
        "tk = word_tokenize(spanish_txt,language=\"spanish\")\n",
        "print(tk)"
      ],
      "metadata": {
        "colab": {
          "base_uri": "https://localhost:8080/"
        },
        "id": "x-RlBNemZB5d",
        "outputId": "ff859e1b-ab87-48f9-e805-2a96918da288"
      },
      "execution_count": 15,
      "outputs": [
        {
          "output_type": "stream",
          "name": "stdout",
          "text": [
            "['Las', 'flores', 'son', 'la', 'expresión', 'colorida', 'y', 'vibrante', 'de', 'la', 'naturaleza', '.', 'En', 'los', 'jardines', ',', 'despliegan', 'su', 'belleza', 'única', ',', 'ofreciendo', 'una', 'paleta', 'de', 'colores', 'que', 'alegra', 'el', 'corazón', '.', 'Cada', 'pétalo', 'es', 'como', 'una', 'obra', 'de', 'arte', ',', 'y', 'su', 'fragancia', 'embriaga', 'el', 'aire', '.', 'Las', 'flores', 'no', 'solo', 'son', 'hermosas', ',', 'sino', 'que', 'también', 'simbolizan', 'la', 'vida', ',', 'el', 'amor', 'y', 'la', 'renovación', '.', 'Al', 'observar', 'un', 'campo', 'de', 'flores', ',', 'nos', 'sumergimos', 'en', 'la', 'poesía', 'visual', 'de', 'la', 'existencia', ',', 'recordándonos', 'la', 'delicadeza', 'y', 'la', 'efímera', 'belleza', 'que', 'florece', 'en', 'cada', 'rincón', 'de', 'nuestro', 'mundo']\n"
          ]
        }
      ]
    },
    {
      "cell_type": "code",
      "source": [
        "mlym_txt=\"\"\"വി. എസ്. അച്യുതാനന്ദന്‍, കേരളത്തിന്റെ മുൻ മുഖ്യമന്ത്രിയായിരുന്ന ഏറ്റവും പ്രശസ്തനായ സാമാന്തര രാജാവ്. അദ്ദേഹം തന്റെ അല്ലാതെ രാജാക്കന്‍, സാമ്രാജ്യം എന്നീ പേരുകളില്‍ അറിയപ്പെടുന്നു. അച്യുതാനന്ദന്‍ കേരളത്തിന്റെ രാഷ്ട്രീയ പരിഷ്കൃതിയിലൂടെ ഏറ്റവും പ്രമുഖനായ നേതാവായിരുന്നു. അദ്ദേഹത്തിന്‍റെ പ്രവാചകസ്വഭാവം, സജീവ ജീവിതരീതി, ശാസ്ത്രീയ ധാരാളം, വ്യക്തിഗത നിലപാടുകള്‍ എന്നിവയാണ് അദ്ദേഹത്തിന്റെ പ്രധാന വിശേഷങ്ങള്‍.\"\"\""
      ],
      "metadata": {
        "id": "ev7ODVL6ZE9v"
      },
      "execution_count": 16,
      "outputs": []
    },
    {
      "cell_type": "code",
      "source": [
        "tk = word_tokenize(mlym_txt)\n",
        "print(tk)"
      ],
      "metadata": {
        "colab": {
          "base_uri": "https://localhost:8080/"
        },
        "id": "HT47aMlraC-M",
        "outputId": "18c36fa1-6346-4014-e83e-3c0bea3b2263"
      },
      "execution_count": 19,
      "outputs": [
        {
          "output_type": "stream",
          "name": "stdout",
          "text": [
            "['വി', '.', 'എസ്', '.', 'അച്യുതാനന്ദന്\\u200d', ',', 'കേരളത്തിന്റെ', 'മുൻ', 'മുഖ്യമന്ത്രിയായിരുന്ന', 'ഏറ്റവും', 'പ്രശസ്തനായ', 'സാമാന്തര', 'രാജാവ്', '.', 'അദ്ദേഹം', 'തന്റെ', 'അല്ലാതെ', 'രാജാക്കന്\\u200d', ',', 'സാമ്രാജ്യം', 'എന്നീ', 'പേരുകളില്\\u200d', 'അറിയപ്പെടുന്നു', '.', 'അച്യുതാനന്ദന്\\u200d', 'കേരളത്തിന്റെ', 'രാഷ്ട്രീയ', 'പരിഷ്കൃതിയിലൂടെ', 'ഏറ്റവും', 'പ്രമുഖനായ', 'നേതാവായിരുന്നു', '.', 'അദ്ദേഹത്തിന്\\u200dറെ', 'പ്രവാചകസ്വഭാവം', ',', 'സജീവ', 'ജീവിതരീതി', ',', 'ശാസ്ത്രീയ', 'ധാരാളം', ',', 'വ്യക്തിഗത', 'നിലപാടുകള്\\u200d', 'എന്നിവയാണ്', 'അദ്ദേഹത്തിന്റെ', 'പ്രധാന', 'വിശേഷങ്ങള്\\u200d', '.']\n"
          ]
        }
      ]
    },
    {
      "cell_type": "code",
      "source": [
        "mlylm_tk = indic_tokenize.trivial_tokenize(mlym_txt)\n",
        "print(mlylm_tk)"
      ],
      "metadata": {
        "colab": {
          "base_uri": "https://localhost:8080/"
        },
        "id": "kOZ8P73taGcS",
        "outputId": "ea0eed71-998d-4dbe-e858-d4c98bb60185"
      },
      "execution_count": 21,
      "outputs": [
        {
          "output_type": "stream",
          "name": "stdout",
          "text": [
            "['വി', '.', 'എസ്', '.', 'അച്യുതാനന്ദന്\\u200d', ',', 'കേരളത്തിന്റെ', 'മുൻ', 'മുഖ്യമന്ത്രിയായിരുന്ന', 'ഏറ്റവും', 'പ്രശസ്തനായ', 'സാമാന്തര', 'രാജാവ്', '.', 'അദ്ദേഹം', 'തന്റെ', 'അല്ലാതെ', 'രാജാക്കന്\\u200d', ',', 'സാമ്രാജ്യം', 'എന്നീ', 'പേരുകളില്\\u200d', 'അറിയപ്പെടുന്നു', '.', 'അച്യുതാനന്ദന്\\u200d', 'കേരളത്തിന്റെ', 'രാഷ്ട്രീയ', 'പരിഷ്കൃതിയിലൂടെ', 'ഏറ്റവും', 'പ്രമുഖനായ', 'നേതാവായിരുന്നു', '.', 'അദ്ദേഹത്തിന്\\u200dറെ', 'പ്രവാചകസ്വഭാവം', ',', 'സജീവ', 'ജീവിതരീതി', ',', 'ശാസ്ത്രീയ', 'ധാരാളം', ',', 'വ്യക്തിഗത', 'നിലപാടുകള്\\u200d', 'എന്നിവയാണ്', 'അദ്ദേഹത്തിന്റെ', 'പ്രധാന', 'വിശേഷങ്ങള്\\u200d', '.']\n"
          ]
        }
      ]
    },
    {
      "cell_type": "code",
      "source": [],
      "metadata": {
        "id": "xmOnAOJfaRlh"
      },
      "execution_count": null,
      "outputs": []
    }
  ]
}